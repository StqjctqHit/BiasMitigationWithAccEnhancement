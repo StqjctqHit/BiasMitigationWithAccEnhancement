{
 "cells": [
  {
   "cell_type": "markdown",
   "id": "843e8d3e-ba8e-4fba-8779-5610f7e2a2f6",
   "metadata": {},
   "source": [
    "# Demo of Bias Mitigation with Accuracy Enhancement\n"
   ]
  },
  {
   "cell_type": "markdown",
   "id": "ca925ea7-c30d-4269-94da-8cb28233a237",
   "metadata": {},
   "source": [
    "## 1. Import the Framwork"
   ]
  },
  {
   "cell_type": "code",
   "execution_count": 1,
   "id": "ff06d6b8-9718-4808-8f83-73432880477c",
   "metadata": {},
   "outputs": [],
   "source": [
    "import BiasMitigationWithAccEnhancement as BM\n"
   ]
  },
  {
   "cell_type": "markdown",
   "id": "b9d67931-577a-4c77-a63c-a38027189f9d",
   "metadata": {},
   "source": [
    "## 2. Initialize the Framework\n",
    "\n",
    "Use the UCI Adult dataset as an example and choose race as $O$ and income as $Y$."
   ]
  },
  {
   "cell_type": "code",
   "execution_count": 2,
   "id": "60952520-cedc-47fd-a1eb-d0a7990852ef",
   "metadata": {},
   "outputs": [],
   "source": [
    "BM_frame = BM.BMwithAE(\n",
    "    label_O='race',\n",
    "    label_Y='income',\n",
    "    dataset_name='uci_adult'\n",
    ")\n",
    "\n",
    "BM_frame.load_data()"
   ]
  },
  {
   "cell_type": "markdown",
   "id": "24f48f20-6c70-4576-ac40-2b76d071cb38",
   "metadata": {},
   "source": [
    "## 3. Use the Framework\n",
    "\n",
    "The default parameter selection can be referred to the `default_params` setting in the `BiasMitigationWithAccEnhancement.py`.The Demo chooses to apply both bias mitigation and accuracy enhancement."
   ]
  },
  {
   "cell_type": "code",
   "execution_count": 3,
   "id": "d5105463-06ad-42c5-bb81-12ede5abbb9c",
   "metadata": {},
   "outputs": [],
   "source": [
    "BM_frame.BMwithAE_loop(\n",
    "    is_bias_mitigation=True,\n",
    "    is_acc_enhancement=True\n",
    ")\n"
   ]
  },
  {
   "cell_type": "markdown",
   "id": "2f61e430-0098-43e9-8b7b-64b060ff7ba4",
   "metadata": {},
   "source": [
    "***\n",
    "The results are stored in the class property result_list."
   ]
  },
  {
   "cell_type": "code",
   "execution_count": 4,
   "id": "f17fcb87-b000-4a99-a2c9-f9501d63b6ac",
   "metadata": {},
   "outputs": [
    {
     "name": "stdout",
     "output_type": "stream",
     "text": [
      "The epsilon before is 0.0089\n",
      "The epsilon after is 0.0002\n"
     ]
    }
   ],
   "source": [
    "print('The epsilon before is %.4f' %BM_frame.result_list[-1]['epsilon_base'])\n",
    "print('The epsilon after is %.4f' %BM_frame.result_list[-1]['epsilon_end'])\n"
   ]
  },
  {
   "cell_type": "code",
   "execution_count": 5,
   "id": "05bba429-2558-4df9-8b29-e7c1db07853d",
   "metadata": {},
   "outputs": [
    {
     "name": "stdout",
     "output_type": "stream",
     "text": [
      "The accuracy before is 0.785\n",
      "The accuracy after is 0.789\n"
     ]
    }
   ],
   "source": [
    "print('The accuracy before is %.3f' %BM_frame.result_list[-1]['acc_base'])\n",
    "print('The accuracy after is %.3f' %BM_frame.result_list[-1]['acc_end'])\n"
   ]
  },
  {
   "cell_type": "markdown",
   "id": "0ba356da-55f2-4f66-908c-67952b06674d",
   "metadata": {},
   "source": [
    "***\n",
    "The framework also supports multiple experiments with different settings."
   ]
  },
  {
   "cell_type": "code",
   "execution_count": 6,
   "id": "f18b833d-bae2-48df-b490-27eb2825a218",
   "metadata": {},
   "outputs": [],
   "source": [
    "BM_frame.BMwithAE_loop(\n",
    "    is_bias_mitigation=True,\n",
    "    is_acc_enhancement=True,\n",
    "    clf_name='DT'\n",
    ")\n"
   ]
  },
  {
   "cell_type": "code",
   "execution_count": 7,
   "id": "f9f84b25-3c77-4920-ad42-98ede29eecc0",
   "metadata": {},
   "outputs": [
    {
     "name": "stdout",
     "output_type": "stream",
     "text": [
      "The epsilon before is 0.0089\n",
      "The epsilon after is 0.0008\n"
     ]
    }
   ],
   "source": [
    "print('The epsilon before is %.4f' %BM_frame.result_list[-1]['epsilon_base'])\n",
    "print('The epsilon after is %.4f' %BM_frame.result_list[-1]['epsilon_end'])\n"
   ]
  },
  {
   "cell_type": "code",
   "execution_count": 8,
   "id": "c56fceb6-f410-4bf6-88e8-7ac98e6026dd",
   "metadata": {},
   "outputs": [
    {
     "name": "stdout",
     "output_type": "stream",
     "text": [
      "The accuracy before is 0.807\n",
      "The accuracy after is 0.781\n"
     ]
    }
   ],
   "source": [
    "print('The accuracy before is %.3f' %BM_frame.result_list[-1]['acc_base'])\n",
    "print('The accuracy after is %.3f' %BM_frame.result_list[-1]['acc_end'])\n"
   ]
  },
  {
   "cell_type": "markdown",
   "id": "34b18654-1965-4295-843f-e4593f53bcec",
   "metadata": {},
   "source": [
    "***"
   ]
  }
 ],
 "metadata": {
  "kernelspec": {
   "display_name": "Python 3 (ipykernel)",
   "language": "python",
   "name": "python3"
  },
  "language_info": {
   "codemirror_mode": {
    "name": "ipython",
    "version": 3
   },
   "file_extension": ".py",
   "mimetype": "text/x-python",
   "name": "python",
   "nbconvert_exporter": "python",
   "pygments_lexer": "ipython3",
   "version": "3.8.5"
  }
 },
 "nbformat": 4,
 "nbformat_minor": 5
}
